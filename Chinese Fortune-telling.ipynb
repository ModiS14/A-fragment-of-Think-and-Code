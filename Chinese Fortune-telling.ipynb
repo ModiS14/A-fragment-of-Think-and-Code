{
 "cells": [
  {
   "cell_type": "code",
   "execution_count": 1,
   "id": "ddc008d9-67e0-454e-96d4-7c7cf2ba7061",
   "metadata": {},
   "outputs": [],
   "source": [
    "from random import randint"
   ]
  },
  {
   "cell_type": "code",
   "execution_count": 2,
   "id": "3b715e73-f15d-470e-b20c-13c8ec4250dc",
   "metadata": {},
   "outputs": [],
   "source": [
    "def SheShi():\n",
    "    pic = '' # 生成空string以便最后展示图像\n",
    "    for i in range(6):\n",
    "        DaYan = 55 # 大衍之数五十\n",
    "        Yong = 49 # 其用四十有九\n",
    "\n",
    "        x = 0\n",
    "        number_1 = randint(1,Yong) #分而为二以象两\n",
    "        while number_1 == Yong:\n",
    "            number_1 = randint(1,Yong)\n",
    "        ren = 1 # 挂一以象三\n",
    "        print ('天之数为%d，地之数为%d' % (number_1, Yong - ren - number_1))\n",
    "        a = number_1 % 4 # 揲之以四，以象四时\n",
    "        if a == 0:\n",
    "            x += 9\n",
    "        else:\n",
    "            x += 5\n",
    "\n",
    "        number_2 = randint(1,Yong-x)\n",
    "        while number_2 == Yong-x:\n",
    "            number_2 = randint(1,Yong-x)\n",
    "        ren = 1\n",
    "        print ('天之数为%d，地之数为%d' % (number_2, 49-x - ren - number_2))\n",
    "        b = number_2 % 4\n",
    "        if b == 1 or b == 2:\n",
    "            x += 4\n",
    "        else:\n",
    "            x += 8\n",
    "\n",
    "        number_3 = randint(1,49-x)\n",
    "        while number_3 == Yong-x:\n",
    "            number_3 = randint(1,Yong-x)\n",
    "        ren = 1\n",
    "        print ('天之数为%d，地之数为%d' % (number_3, 49-x - ren -number_3))\n",
    "        c = number_3 % 4\n",
    "        if c == 1 or c == 2:\n",
    "            x += 4\n",
    "        else:\n",
    "            x += 8  \n",
    "\n",
    "        res = '第{}爻为'.format(i+1)\n",
    "        # \"四营而成易\" \n",
    "        if (49 - x)/4 == 9:\n",
    "            print(res+'老阳')\n",
    "            pic += '——'\n",
    "        elif (49 - x)/4 == 8:\n",
    "            print (res+'少阴')\n",
    "            pic += '--'\n",
    "        elif (49 - x)/4 == 7:\n",
    "            print (res+'少阳')\n",
    "            pic += '——'\n",
    "        elif (49 - x)/4 == 6:\n",
    "            print (res+'老阴')\n",
    "            pic += '--'\n",
    "        print('\\n')\n",
    "        pic += '\\n'\n",
    "    print(pic[::-1]) # 顺序颠倒，因为是初爻在下，六爻在上"
   ]
  },
  {
   "cell_type": "code",
   "execution_count": 3,
   "id": "75c66644-a510-4b73-98f5-42f680e45a5c",
   "metadata": {},
   "outputs": [
    {
     "name": "stdout",
     "output_type": "stream",
     "text": [
      "天之数为20，地之数为28\n",
      "天之数为21，地之数为18\n",
      "天之数为31，地之数为4\n",
      "第1爻为少阳\n",
      "\n",
      "\n",
      "天之数为7，地之数为41\n",
      "天之数为1，地之数为42\n",
      "天之数为7，地之数为32\n",
      "第2爻为少阴\n",
      "\n",
      "\n",
      "天之数为7，地之数为41\n",
      "天之数为16，地之数为27\n",
      "天之数为30，地之数为5\n",
      "第3爻为少阴\n",
      "\n",
      "\n",
      "天之数为34，地之数为14\n",
      "天之数为1，地之数为42\n",
      "天之数为25，地之数为14\n",
      "第4爻为老阳\n",
      "\n",
      "\n",
      "天之数为43，地之数为5\n",
      "天之数为29，地之数为14\n",
      "天之数为22，地之数为17\n",
      "第5爻为老阳\n",
      "\n",
      "\n",
      "天之数为8，地之数为40\n",
      "天之数为38，地之数为1\n",
      "天之数为23，地之数为12\n",
      "第6爻为少阳\n",
      "\n",
      "\n",
      "\n",
      "——\n",
      "——\n",
      "——\n",
      "--\n",
      "--\n",
      "——\n"
     ]
    }
   ],
   "source": [
    "SheShi()"
   ]
  },
  {
   "cell_type": "markdown",
   "id": "7eb5a7f8-c858-4121-bfc0-b2aa33479b9e",
   "metadata": {},
   "source": [
    "以此次占卜为例，得出来六个爻，四象生八卦，上乾下震，天雷无妄。哎呀，很容易联想起“无妄之灾”，赶紧去《周易》里查查到底怎么回事。<br>\n",
    "准确的说，我们占卜的结果是“无妄之颐”。因为第四爻和第五爻是老阳，也就是变爻。我们只需关注九五和九四两爻就好，以上为主。为什么阳要用九呢？可以看代码，我们在print之前是不是用49-x除以4，得出来9就是老阳，得出来6就是老阴，这是变爻，我们只有在有变爻的时候才需要看爻辞。<br>\n",
    "再多说一句，九五似乎也很耳熟，所谓九五至尊。而这个词恰恰就是这么来的，一般说来，九五爻就是最尊贵的一爻。这让我们稍微舒心了一些。<br>\n",
    "周易写到：<br>\n",
    "    九五，无妄之疾，勿藥有喜。<br>\n",
    "    九四，可貞，无咎。<br>\n",
    "这些话到底又是什么意思呢？这就不是程序能够告诉你的了，以上只是用python实现南宋时期的朱熹朱圣人，半蒙半猜，拍脑袋想出来的一套规范的算法。至于如何解卦，就需要历史文化的底蕴和行走江湖的手腕与头脑了。"
   ]
  },
  {
   "cell_type": "code",
   "execution_count": null,
   "id": "447de206-44ff-41f6-a065-c9675b3db9a8",
   "metadata": {},
   "outputs": [],
   "source": []
  }
 ],
 "metadata": {
  "kernelspec": {
   "display_name": "Python 3 (ipykernel)",
   "language": "python",
   "name": "python3"
  },
  "language_info": {
   "codemirror_mode": {
    "name": "ipython",
    "version": 3
   },
   "file_extension": ".py",
   "mimetype": "text/x-python",
   "name": "python",
   "nbconvert_exporter": "python",
   "pygments_lexer": "ipython3",
   "version": "3.8.8"
  }
 },
 "nbformat": 4,
 "nbformat_minor": 5
}
